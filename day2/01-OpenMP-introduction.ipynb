{
 "cells": [
  {
   "cell_type": "markdown",
   "metadata": {},
   "source": [
    "# Shared Memory Parallelism using OpenMP"
   ]
  },
  {
   "cell_type": "markdown",
   "metadata": {},
   "source": [
    "We want to use OpenMP to enable parallel execution of our codes. If multiple workers can do the same job, execution will be sped up."
   ]
  },
  {
   "cell_type": "code",
   "execution_count": 1,
   "metadata": {},
   "outputs": [
    {
     "name": "stdout",
     "output_type": "stream",
     "text": [
      "\u001b[36m#\u001b[39;49;00m\u001b[36minclude\u001b[39;49;00m \u001b[37m<cstdlib>\u001b[39;49;00m\u001b[36m\u001b[39;49;00m\n",
      "\u001b[36m#\u001b[39;49;00m\u001b[36minclude\u001b[39;49;00m \u001b[37m<iostream>\u001b[39;49;00m\u001b[36m\u001b[39;49;00m\n",
      "\u001b[36m#\u001b[39;49;00m\u001b[36minclude\u001b[39;49;00m \u001b[37m<omp.h>\u001b[39;49;00m\u001b[36m\u001b[39;49;00m\n",
      "\u001b[36m#\u001b[39;49;00m\u001b[36minclude\u001b[39;49;00m \u001b[37m<vector>\u001b[39;49;00m\u001b[36m\u001b[39;49;00m\n",
      "\n",
      "\u001b[36mint\u001b[39;49;00m \u001b[32mmain\u001b[39;49;00m(\u001b[36mint\u001b[39;49;00m argc, \u001b[36mchar\u001b[39;49;00m \u001b[34mconst\u001b[39;49;00m* argv[]) {\n",
      "  srand(\u001b[34m712\u001b[39;49;00m);\n",
      "  \u001b[36mdouble\u001b[39;49;00m a = rand() % \u001b[34m100\u001b[39;49;00m;\n",
      "  std::cout << std::to_string(a) + \u001b[33m\"\u001b[39;49;00m\u001b[33m\\n\u001b[39;49;00m\u001b[33m\\n\u001b[39;49;00m\u001b[33m\"\u001b[39;49;00m;\n",
      "\n",
      "\u001b[36m#\u001b[39;49;00m\u001b[36mpragma omp parallel\u001b[39;49;00m\u001b[36m\u001b[39;49;00m\n",
      "  {\n",
      "    \u001b[36mdouble\u001b[39;49;00m b = rand() % \u001b[34m100\u001b[39;49;00m;\n",
      "    std::cout << std::to_string(b) + \u001b[33m\"\u001b[39;49;00m\u001b[33m\\n\u001b[39;49;00m\u001b[33m\"\u001b[39;49;00m;\n",
      "  }\n",
      "  std::cout << std::flush;\n",
      "\n",
      "    \n",
      "}\n"
     ]
    }
   ],
   "source": [
    "pygmentize omp_examples/a01-parallel.cpp"
   ]
  },
  {
   "cell_type": "markdown",
   "metadata": {},
   "source": [
    "We need to tell the compiler that our program contains OpenMP pragmas with the `-fopenmp` option."
   ]
  },
  {
   "cell_type": "code",
   "execution_count": null,
   "metadata": {},
   "outputs": [],
   "source": [
    "g++ omp_examples/a01-parallel.cpp -fopenmp -o parallel"
   ]
  },
  {
   "cell_type": "markdown",
   "metadata": {},
   "source": [
    "Now we can run the generated executable."
   ]
  },
  {
   "cell_type": "code",
   "execution_count": null,
   "metadata": {},
   "outputs": [],
   "source": [
    "./parallel"
   ]
  },
  {
   "cell_type": "markdown",
   "metadata": {},
   "source": [
    "# Infos about the region\n",
    "OpenMP allows to get the information about number of threads present in each parallel region"
   ]
  },
  {
   "cell_type": "code",
   "execution_count": null,
   "metadata": {},
   "outputs": [],
   "source": [
    "pygmentize omp_examples/a02-infos.cpp"
   ]
  },
  {
   "cell_type": "code",
   "execution_count": null,
   "metadata": {},
   "outputs": [],
   "source": [
    "g++ omp_examples/a02-infos.cpp -fopenmp -o infos && ./infos"
   ]
  },
  {
   "cell_type": "markdown",
   "metadata": {},
   "source": [
    "# Setting the number of threads\n",
    "We can do this either on each parallel region or with an environment variable"
   ]
  },
  {
   "cell_type": "code",
   "execution_count": null,
   "metadata": {},
   "outputs": [],
   "source": [
    "pygmentize omp_examples/a03-threadnum.cpp"
   ]
  },
  {
   "cell_type": "code",
   "execution_count": null,
   "metadata": {},
   "outputs": [],
   "source": [
    "g++ omp_examples/a03-threadnum.cpp -fopenmp -o threadnum && ./threadnum"
   ]
  },
  {
   "cell_type": "markdown",
   "metadata": {},
   "source": [
    "We can set the number of threads to use when nothing is specified with the `OMP_NUM_THREADS` environment variable."
   ]
  },
  {
   "cell_type": "code",
   "execution_count": null,
   "metadata": {},
   "outputs": [],
   "source": [
    "OMP_NUM_THREADS=4 ./infos"
   ]
  },
  {
   "cell_type": "code",
   "execution_count": null,
   "metadata": {},
   "outputs": [],
   "source": [
    "OMP_NUM_THREADS=4 ./threadnum"
   ]
  },
  {
   "cell_type": "markdown",
   "metadata": {},
   "source": [
    "# Parallel loops\n",
    "Since loops are such an important concept to parallelize, there is a special directive for it"
   ]
  },
  {
   "cell_type": "code",
   "execution_count": null,
   "metadata": {},
   "outputs": [],
   "source": [
    "pygmentize omp_examples/a04-loops.cpp"
   ]
  },
  {
   "cell_type": "code",
   "execution_count": null,
   "metadata": {},
   "outputs": [],
   "source": [
    "g++ omp_examples/a04-loops.cpp -fopenmp -o loops"
   ]
  },
  {
   "cell_type": "code",
   "execution_count": null,
   "metadata": {},
   "outputs": [],
   "source": [
    "OMP_NUM_THREADS=4 ./loops"
   ]
  },
  {
   "cell_type": "code",
   "execution_count": null,
   "metadata": {},
   "outputs": [],
   "source": [
    "OMP_NUM_THREADS=12 ./loops"
   ]
  },
  {
   "cell_type": "markdown",
   "metadata": {},
   "source": [
    "# Scheduling\n",
    "Controlling the loop execution with the schedule directive"
   ]
  },
  {
   "cell_type": "code",
   "execution_count": null,
   "metadata": {},
   "outputs": [],
   "source": [
    "pygmentize omp_examples/a05-schedule.cpp"
   ]
  },
  {
   "cell_type": "code",
   "execution_count": null,
   "metadata": {},
   "outputs": [],
   "source": [
    "g++ omp_examples/a05-schedule.cpp -fopenmp -o schedule"
   ]
  },
  {
   "cell_type": "code",
   "execution_count": null,
   "metadata": {},
   "outputs": [],
   "source": [
    "OMP_NUM_THREADS=2 ./schedule"
   ]
  },
  {
   "cell_type": "markdown",
   "metadata": {},
   "source": [
    "# Variable Scoping\n",
    "Who owns wich variables and what is their value "
   ]
  },
  {
   "cell_type": "code",
   "execution_count": null,
   "metadata": {},
   "outputs": [],
   "source": [
    "pygmentize omp_examples/a06-scoping.cpp"
   ]
  },
  {
   "cell_type": "code",
   "execution_count": null,
   "metadata": {},
   "outputs": [],
   "source": [
    "g++ omp_examples/a06-scoping.cpp -fopenmp -o scoping"
   ]
  },
  {
   "cell_type": "code",
   "execution_count": null,
   "metadata": {},
   "outputs": [],
   "source": [
    "./scoping"
   ]
  },
  {
   "cell_type": "markdown",
   "metadata": {},
   "source": [
    "The private directive allows each thread to have a copy of a variable"
   ]
  },
  {
   "cell_type": "code",
   "execution_count": null,
   "metadata": {},
   "outputs": [],
   "source": [
    "pygmentize omp_examples/a07-private.cpp"
   ]
  },
  {
   "cell_type": "code",
   "execution_count": null,
   "metadata": {},
   "outputs": [],
   "source": [
    "g++ omp_examples/a07-private.cpp -fopenmp -o private"
   ]
  },
  {
   "cell_type": "code",
   "execution_count": null,
   "metadata": {},
   "outputs": [],
   "source": [
    "OMP_NUM_THREADS=10 ./private"
   ]
  },
  {
   "cell_type": "markdown",
   "metadata": {},
   "source": [
    "shared is the default but can also be stated explicitly"
   ]
  },
  {
   "cell_type": "code",
   "execution_count": null,
   "metadata": {},
   "outputs": [],
   "source": [
    "pygmentize omp_examples/a08-shared.cpp"
   ]
  },
  {
   "cell_type": "code",
   "execution_count": null,
   "metadata": {},
   "outputs": [],
   "source": [
    "g++ omp_examples/a08-shared.cpp -fopenmp -o shared"
   ]
  },
  {
   "cell_type": "code",
   "execution_count": null,
   "metadata": {},
   "outputs": [],
   "source": [
    "OMP_NUM_THREADS=10 ./private"
   ]
  },
  {
   "cell_type": "markdown",
   "metadata": {},
   "source": [
    "# Special Regions\n",
    "We need special regions"
   ]
  },
  {
   "cell_type": "code",
   "execution_count": null,
   "metadata": {},
   "outputs": [],
   "source": [
    "pygmentize omp_examples/a09-regions.cpp"
   ]
  },
  {
   "cell_type": "code",
   "execution_count": null,
   "metadata": {},
   "outputs": [],
   "source": [
    "g++ omp_examples/a09-regions.cpp -fopenmp -o regions && ./regions"
   ]
  },
  {
   "cell_type": "markdown",
   "metadata": {},
   "source": [
    "# What if parallel regions span multiple tasks\n",
    "Barrier can be a thing"
   ]
  },
  {
   "cell_type": "code",
   "execution_count": null,
   "metadata": {},
   "outputs": [],
   "source": [
    "pygmentize omp_examples/a10-barrier.cpp"
   ]
  },
  {
   "cell_type": "code",
   "execution_count": null,
   "metadata": {},
   "outputs": [],
   "source": [
    "g++ omp_examples/a10-barrier.cpp -fopenmp -o barrier && ./barrier"
   ]
  },
  {
   "cell_type": "code",
   "execution_count": null,
   "metadata": {},
   "outputs": [],
   "source": [
    "pygmentize omp_examples/a11-barrier.cpp"
   ]
  },
  {
   "cell_type": "code",
   "execution_count": null,
   "metadata": {},
   "outputs": [],
   "source": [
    "g++ omp_examples/a11-barrier.cpp -fopenmp -o barrier2 && ./barrier2"
   ]
  },
  {
   "cell_type": "markdown",
   "metadata": {},
   "source": [
    "# Nowait\n",
    "and the opposite of it"
   ]
  },
  {
   "cell_type": "code",
   "execution_count": null,
   "metadata": {},
   "outputs": [],
   "source": [
    "pygmentize omp_examples/a12-loops.cpp"
   ]
  },
  {
   "cell_type": "code",
   "execution_count": null,
   "metadata": {},
   "outputs": [],
   "source": [
    "g++ omp_examples/a12-loops.cpp -fopenmp -o loops && ./loops"
   ]
  },
  {
   "cell_type": "code",
   "execution_count": null,
   "metadata": {},
   "outputs": [],
   "source": [
    "pygmentize omp_examples/a13-nowait.cpp"
   ]
  },
  {
   "cell_type": "code",
   "execution_count": null,
   "metadata": {},
   "outputs": [],
   "source": [
    "g++ omp_examples/a13-nowait.cpp -fopenmp -o nowait && ./nowait"
   ]
  },
  {
   "cell_type": "markdown",
   "metadata": {},
   "source": [
    "# Reductions\n",
    "Since reductions are such an omnipresent motif, we do not want to implement it with critical / atomic every time, so there is a keyword for it:"
   ]
  },
  {
   "cell_type": "code",
   "execution_count": null,
   "metadata": {},
   "outputs": [],
   "source": [
    "pygmentize omp_examples/a14-reduction.cpp"
   ]
  },
  {
   "cell_type": "code",
   "execution_count": null,
   "metadata": {},
   "outputs": [],
   "source": [
    "g++ omp_examples/a14-reduction.cpp -fopenmp -o reduction && ./reduction"
   ]
  },
  {
   "cell_type": "markdown",
   "metadata": {},
   "source": [
    "# Amdahl's law\n",
    "\n",
    "We look at the performance of the simple code above (slightly changed for better output readability"
   ]
  },
  {
   "cell_type": "markdown",
   "metadata": {},
   "source": [
    "### Example\n",
    "\n",
    "Computing $\\pi$ using the Leibniz formula:\n",
    "$$1 - \\frac{1}{3} + \\frac{1}{5} - \\frac{1}{7} + \\frac{1}{9} ... = \\frac{\\pi}{4}$$"
   ]
  },
  {
   "cell_type": "code",
   "execution_count": null,
   "metadata": {},
   "outputs": [],
   "source": [
    "pygmentize omp_examples/b01-timing.cpp"
   ]
  },
  {
   "cell_type": "code",
   "execution_count": null,
   "metadata": {},
   "outputs": [],
   "source": [
    "g++ -fopenmp omp_examples/b01-timing.cpp -o timing"
   ]
  },
  {
   "cell_type": "code",
   "execution_count": null,
   "metadata": {},
   "outputs": [],
   "source": [
    "./timing 1 > out.txt\n",
    "./timing 2 >> out.txt\n",
    "./timing 3 >> out.txt\n",
    "./timing 4 >> out.txt\n",
    "./timing 5 >> out.txt\n",
    "./timing 6 >> out.txt\n",
    "./timing 7 >> out.txt\n",
    "./timing 8 >> out.txt\n",
    "./timing 9 >> out.txt\n",
    "./timing 10 >> out.txt\n",
    "./timing 11 >> out.txt\n",
    "./timing 12 >> out.txt"
   ]
  },
  {
   "cell_type": "code",
   "execution_count": null,
   "metadata": {},
   "outputs": [],
   "source": [
    "gnuplot -e \"\\\n",
    "set terminal png; \\\n",
    "set style fill solid; \\\n",
    "set yrange[0:0.1]; \\\n",
    "set xlabel '# cores'; \\\n",
    "set ylabel 'runtime [s]'; \\\n",
    "plot 'out.txt' using 2: xtic(1) title 'runtime' with histogram \\\n",
    "\" | display"
   ]
  },
  {
   "cell_type": "code",
   "execution_count": null,
   "metadata": {},
   "outputs": [],
   "source": [
    "base=`head -1 out.txt | awk '{print $2}'`\n",
    "gnuplot -e \"\\\n",
    "set terminal png; \\\n",
    "set style fill solid; \\\n",
    "set yrange[0:14]; \\\n",
    "set xlabel '# cores'; \\\n",
    "set ylabel 'speedup (relative to 1 core)'; \\\n",
    "plot 'out.txt' using ($base/\\$2): xtic(1) title 'runtime' with histogram, \n",
    "'out.txt' using :(\\$1) title 'linear' with lines\\\n",
    "\" | display"
   ]
  },
  {
   "cell_type": "markdown",
   "metadata": {},
   "source": [
    "## Caching\n",
    "\n",
    "Here we see the implication of caching in a multithreaded environment"
   ]
  },
  {
   "cell_type": "code",
   "execution_count": 3,
   "metadata": {},
   "outputs": [
    {
     "name": "stdout",
     "output_type": "stream",
     "text": [
      "\u001b[36m#\u001b[39;49;00m\u001b[36minclude\u001b[39;49;00m \u001b[37m<iostream>\u001b[39;49;00m\u001b[36m\u001b[39;49;00m\n",
      "\u001b[36m#\u001b[39;49;00m\u001b[36minclude\u001b[39;49;00m \u001b[37m<omp.h>\u001b[39;49;00m\u001b[36m\u001b[39;49;00m\n",
      "\u001b[36m#\u001b[39;49;00m\u001b[36minclude\u001b[39;49;00m \u001b[37m<vector>\u001b[39;49;00m\u001b[36m\u001b[39;49;00m\n",
      "\n",
      "\u001b[36mint\u001b[39;49;00m \u001b[32mmain\u001b[39;49;00m(\u001b[36mint\u001b[39;49;00m argc, \u001b[36mchar\u001b[39;49;00m \u001b[34mconst\u001b[39;49;00m* argv[]) {\n",
      "\n",
      "  std::vector<\u001b[36mdouble\u001b[39;49;00m> input(\u001b[34m10000000\u001b[39;49;00m, \u001b[34m1\u001b[39;49;00m);\n",
      "  std::vector<\u001b[36mdouble\u001b[39;49;00m> output(\u001b[34m10000000\u001b[39;49;00m, \u001b[34m0\u001b[39;49;00m);\n",
      "\n",
      "  omp_set_num_threads(atoi(argv[\u001b[34m1\u001b[39;49;00m]));\n",
      "\n",
      "  \u001b[36mdouble\u001b[39;49;00m tic = omp_get_wtime();\n",
      "\n",
      "\u001b[36m#\u001b[39;49;00m\u001b[36mpragma omp parallel for schedule(static, 1)\u001b[39;49;00m\u001b[36m\u001b[39;49;00m\n",
      "  \u001b[34mfor\u001b[39;49;00m(\u001b[36mint\u001b[39;49;00m i = \u001b[34m0\u001b[39;49;00m; i < input.size(); ++i) {\n",
      "    output[i] = \u001b[34m2\u001b[39;49;00m * input[i];\n",
      "    input[i] = \u001b[34m0\u001b[39;49;00m;\n",
      "  }\n",
      "\n",
      "  \u001b[36mdouble\u001b[39;49;00m toc = omp_get_wtime();\n",
      "\n",
      "\u001b[36m#\u001b[39;49;00m\u001b[36mpragma omp parallel\u001b[39;49;00m\u001b[36m\u001b[39;49;00m\n",
      "  {\n",
      "    \u001b[34mif\u001b[39;49;00m(omp_get_thread_num() == \u001b[34m0\u001b[39;49;00m)\n",
      "      std::cout << omp_get_num_threads() << \u001b[33m\"\u001b[39;49;00m\u001b[33m\\t\u001b[39;49;00m\u001b[33m\"\u001b[39;49;00m << toc - tic << std::endl;\n",
      "  }\n",
      "\n",
      "  \u001b[34mreturn\u001b[39;49;00m \u001b[34m0\u001b[39;49;00m;\n",
      "}\n"
     ]
    }
   ],
   "source": [
    "pygmentize omp_examples/b03-caching.cpp"
   ]
  },
  {
   "cell_type": "code",
   "execution_count": null,
   "metadata": {},
   "outputs": [],
   "source": [
    "g++ -fopenmp omp_examples/b03-caching.cpp -o caching"
   ]
  },
  {
   "cell_type": "code",
   "execution_count": null,
   "metadata": {},
   "outputs": [],
   "source": [
    "./caching 1 > caching.txt\n",
    "./caching 2 >> caching.txt\n",
    "./caching 4 >> caching.txt\n",
    "./caching 8 >> caching.txt\n",
    "./caching 12 >> caching.txt\n",
    "./caching 13 >> caching.txt\n",
    "./caching 20 >> caching.txt\n",
    "./caching 24 >> caching.txt"
   ]
  },
  {
   "cell_type": "code",
   "execution_count": null,
   "metadata": {},
   "outputs": [],
   "source": [
    "gnuplot -e \"\\\n",
    "set terminal png; \\\n",
    "set style fill solid; \\\n",
    "set yrange[0:0.1]; \\\n",
    "set xlabel '# cores'; \\\n",
    "set ylabel 'runtime [s]'; \\\n",
    "plot 'caching.txt' using 2: xtic(1) title 'runtime' with histogram \\\n",
    "\" | display"
   ]
  }
 ],
 "metadata": {
  "kernelspec": {
   "display_name": "Bash",
   "language": "bash",
   "name": "bash"
  },
  "language_info": {
   "codemirror_mode": "shell",
   "file_extension": ".sh",
   "mimetype": "text/x-sh",
   "name": "bash"
  }
 },
 "nbformat": 4,
 "nbformat_minor": 4
}
